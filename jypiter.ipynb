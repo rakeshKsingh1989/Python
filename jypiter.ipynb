{
    "cells": [
        {
            "metadata": {},
            "cell_type": "markdown",
            "source": "# My Jupyter Notebook on IBM Watson Studio \n\n"
        },
        {
            "metadata": {},
            "cell_type": "code",
            "source": "print(\"My Name is \",'\\033[1m' + 'RAKESH KUMAR' + '\\033[0m')",
            "execution_count": 1,
            "outputs": [
                {
                    "output_type": "stream",
                    "text": "My Name is  \u001b[1mRAKESH KUMAR\u001b[0m\n",
                    "name": "stdout"
                }
            ]
        },
        {
            "metadata": {
                "scrolled": true
            },
            "cell_type": "code",
            "source": "print(\"Occupation - Software engineer\")",
            "execution_count": 2,
            "outputs": [
                {
                    "output_type": "stream",
                    "text": "Occupation - Software engineer\n",
                    "name": "stdout"
                }
            ]
        },
        {
            "metadata": {},
            "cell_type": "markdown",
            "source": "\n* *i am interested in data science\n"
        },
        {
            "metadata": {},
            "cell_type": "markdown",
            "source": "# the following code tests the gauss formula"
        },
        {
            "metadata": {},
            "cell_type": "code",
            "source": "#code\ndef gauss(n):\n    return (n*(n+1))/2\ngauss(100)==sum(range(101))",
            "execution_count": 3,
            "outputs": [
                {
                    "output_type": "execute_result",
                    "execution_count": 3,
                    "data": {
                        "text/plain": "True"
                    },
                    "metadata": {}
                }
            ]
        },
        {
            "metadata": {},
            "cell_type": "markdown",
            "source": "###### \n* **ONE\n* *two\n** three\n* four\n![clock.jpg](attachment:clock.jpg)",
            "attachments": {
                "clock.jpg": {
                    "image/jpeg": "[encoded data removed]"
                }
            }
        },
        {
            "metadata": {},
            "cell_type": "markdown",
            "source": ""
        },
        {
            "metadata": {},
            "cell_type": "markdown",
            "source": "www.ibm.com\n"
        },
        {
            "metadata": {},
            "cell_type": "code",
            "source": "",
            "execution_count": null,
            "outputs": []
        }
    ],
    "metadata": {
        "kernelspec": {
            "name": "python3",
            "display_name": "Python 3.9",
            "language": "python"
        },
        "language_info": {
            "name": "python",
            "version": "3.9.7",
            "mimetype": "text/x-python",
            "codemirror_mode": {
                "name": "ipython",
                "version": 3
            },
            "pygments_lexer": "ipython3",
            "nbconvert_exporter": "python",
            "file_extension": ".py"
        }
    },
    "nbformat": 4,
    "nbformat_minor": 1
}