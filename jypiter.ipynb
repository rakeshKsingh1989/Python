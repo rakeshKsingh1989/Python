{
    "cells": [
        {
            "metadata": {},
            "cell_type": "code",
            "source": "# My Jupyter Notebook on IBM Watson Studio \nprint (\"My Jupyter Notebook on IBM Watson Studio \")\n",
            "execution_count": 24,
            "outputs": [
                {
                    "output_type": "stream",
                    "text": "My Jupyter Notebook on IBM Watson Studio \n",
                    "name": "stdout"
                }
            ]
        },
        {
            "metadata": {},
            "cell_type": "code",
            "source": "",
            "execution_count": null,
            "outputs": []
        },
        {
            "metadata": {},
            "cell_type": "code",
            "source": "print (\"My Name is Rakesh Kumar \")",
            "execution_count": 2,
            "outputs": [
                {
                    "output_type": "stream",
                    "text": "My Name is Rakesh Kumar \n",
                    "name": "stdout"
                }
            ]
        },
        {
            "metadata": {},
            "cell_type": "code",
            "source": "print(\"Occupation\",'\\033[1m' + 'Software engineer' + '\\033[0m')",
            "execution_count": 21,
            "outputs": [
                {
                    "output_type": "stream",
                    "text": "Occupation \u001b[1mSoftware engineer\u001b[0m\n",
                    "name": "stdout"
                }
            ]
        },
        {
            "metadata": {},
            "cell_type": "markdown",
            "source": "i am interested in data science"
        },
        {
            "metadata": {},
            "cell_type": "markdown",
            "source": "### this is text in H3 header"
        },
        {
            "metadata": {},
            "cell_type": "code",
            "source": "#code\ndef gauss(n):\n    return (n*(n+1))/2\ngauss(100)==sum(range(101))",
            "execution_count": 28,
            "outputs": [
                {
                    "output_type": "execute_result",
                    "execution_count": 28,
                    "data": {
                        "text/plain": "True"
                    },
                    "metadata": {}
                }
            ]
        },
        {
            "metadata": {},
            "cell_type": "markdown",
            "source": "one \ntwo \nthree\none \ntwo\nthree"
        },
        {
            "metadata": {},
            "cell_type": "markdown",
            "source": "this is markdown cell"
        }
    ],
    "metadata": {
        "kernelspec": {
            "name": "python3",
            "display_name": "Python 3.9",
            "language": "python"
        },
        "language_info": {
            "name": "python",
            "version": "3.9.7",
            "mimetype": "text/x-python",
            "codemirror_mode": {
                "name": "ipython",
                "version": 3
            },
            "pygments_lexer": "ipython3",
            "nbconvert_exporter": "python",
            "file_extension": ".py"
        }
    },
    "nbformat": 4,
    "nbformat_minor": 1
}